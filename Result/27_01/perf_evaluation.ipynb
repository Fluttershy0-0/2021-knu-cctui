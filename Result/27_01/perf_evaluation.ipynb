{
 "cells": [
  {
   "cell_type": "code",
   "execution_count": 711,
   "metadata": {},
   "outputs": [],
   "source": [
    "import scipy.stats as sc\n",
    "import numpy as np\n",
    "import pandas as pd\n",
    "import matplotlib.pyplot as plt\n",
    "from sklearn import svm\n",
    "from sklearn import tree\n",
    "from sklearn import linear_model\n",
    "from sklearn import metrics\n",
    "from sklearn import ensemble"
   ]
  },
  {
   "cell_type": "code",
   "execution_count": 516,
   "metadata": {},
   "outputs": [],
   "source": [
    "dfu=pd.read_csv(\"maliuk_unigram_features.csv\")"
   ]
  },
  {
   "cell_type": "code",
   "execution_count": 517,
   "metadata": {},
   "outputs": [
    {
     "name": "stdout",
     "output_type": "stream",
     "text": [
      "featue 1 p-value = 0.00000000\n",
      "featue 2 p-value = 0.00012838\n"
     ]
    },
    {
     "data": {
      "image/png": "[encoded data removed]",
      "text/plain": [
       "<Figure size 2160x2160 with 2 Axes>"
      ]
     },
     "metadata": {
      "needs_background": "light"
     },
     "output_type": "display_data"
    }
   ],
   "source": [
    "plt.figure(figsize=(30, 30))\n",
    "c=1\n",
    "for i in range(2):\n",
    "    plt.subplot(5, 5, c)\n",
    "    plt.title(\"f{}\".format(i+1))\n",
    "    c+=1\n",
    "    f = np.array(dfu[\"f{}\".format(i+1)])\n",
    "    plt.hist(f)\n",
    "    print(\"featue {} p-value = {:.8f}\".format(i+1, sc.kstest(f, 'norm', args=(np.mean(f), np.std(f, ddof=1)))[1]))\n",
    "plt.show()"
   ]
  },
  {
   "cell_type": "markdown",
   "metadata": {},
   "source": [
    "p-value надто маленьке щоб вважати, що будь-який з цих розподілів нормальний. Хоча друга фіча(час між натисками клавіш) більш схожа на нормальний розподіл і при деяких розумних значеннях $\\alpha$ можна прийняти нульову гіпотезу (про нормальність розподілу). \n",
    "<br>Такі ж самі результати отримоємо, якщо взіти датасет датасет іншої людини:"
   ]
  },
  {
   "cell_type": "code",
   "execution_count": 518,
   "metadata": {},
   "outputs": [],
   "source": [
    "dfu=pd.read_csv(\"ann-marie_unigram_features.csv\")"
   ]
  },
  {
   "cell_type": "code",
   "execution_count": 519,
   "metadata": {},
   "outputs": [
    {
     "name": "stdout",
     "output_type": "stream",
     "text": [
      "featue 1 p-value = 0.00000000\n",
      "featue 2 p-value = 0.00657310\n"
     ]
    },
    {
     "data": {
      "image/png": "[encoded data removed]",
      "text/plain": [
       "<Figure size 2160x2160 with 2 Axes>"
      ]
     },
     "metadata": {
      "needs_background": "light"
     },
     "output_type": "display_data"
    }
   ],
   "source": [
    "plt.figure(figsize=(30, 30))\n",
    "c=1\n",
    "for i in range(2):\n",
    "    plt.subplot(5, 5, c)\n",
    "    plt.title(\"f{}\".format(i+1))\n",
    "    c+=1\n",
    "    f = np.array(dfu[\"f{}\".format(i+1)])\n",
    "    plt.hist(f)\n",
    "    print(\"featue {} p-value = {:.8f}\".format(i+1, sc.kstest(f, 'norm', args=(np.mean(f), np.std(f, ddof=1)))[1]))\n",
    "plt.show()"
   ]
  },
  {
   "cell_type": "code",
   "execution_count": 568,
   "metadata": {},
   "outputs": [],
   "source": [
    "def normalize_std(X):\n",
    "    res=np.mean(X, axis=0)\n",
    "    stdd=np.std(X, axis=0)\n",
    "    return (X-res)/stdd"
   ]
  },
  {
   "cell_type": "code",
   "execution_count": 826,
   "metadata": {},
   "outputs": [],
   "source": [
    "def test(model,x_test,y_test):\n",
    "    model.fit(x_train,y_train)\n",
    "    y_proba=model.predict_proba(x_test)\n",
    "    y_pred=model.predict(x_test)\n",
    "    \n",
    "    res={}\n",
    "#     loss=np.mean(np.log(y_proba[:,0]) * (y_test-1) - np.log(y_proba[:,1])*y_test)\n",
    "    loss=metrics.log_loss(y_test,y_proba)\n",
    "    res[\"log-loss\"] = loss\n",
    "    \n",
    "    tp = np.sum(y_pred & y_test)\n",
    "    tn = np.sum(np.logical_not(y_pred) & np.logical_not(y_test))\n",
    "    fp = np.sum(y_pred & np.logical_not(y_test))\n",
    "    fn = np.sum(np.logical_not(y_pred) & y_test)\n",
    "#     print(np.array([[tp,fp],[fn,tn]]))\n",
    "    FAR = fp/np.sum(y_test==0)\n",
    "    FRR = fn/np.sum(y_test==1)\n",
    "    res[\"FAR\"] = FAR\n",
    "    res[\"FRR\"] = FRR\n",
    "    \n",
    "    precision=tp/(fp+tp)\n",
    "    recall=tp/(tp+fn)\n",
    "    F1 = 2 * (precision * recall) / (precision + recall)\n",
    "    res[\"F-score\"] = F1\n",
    "    \n",
    "    return res"
   ]
  },
  {
   "cell_type": "code",
   "execution_count": 827,
   "metadata": {},
   "outputs": [],
   "source": [
    "def performance(x_false,x_true, rep=1):\n",
    "#     normalizing data\n",
    "    data=np.concatenate((x_false,x_true),axis=0)\n",
    "    data=normalize_std(data)\n",
    "    x_false=data[:x_false.shape[0]]\n",
    "    x_true=data[x_false.shape[0]:]\n",
    "#     choicing random records\n",
    "    sample = np.random.choice(np.arange(x_false.shape[0]),x_true.shape[0],replace = False)\n",
    "    x_false = np.concatenate((np.ones((x_true.shape[0],1)),x_false[sample]),axis=1)\n",
    "    x_true = np.concatenate((np.ones((x_true.shape[0],1)),x_true),axis=1)\n",
    "#     dividing dataset in training and test datasets\n",
    "    t=np.arange(x_true.shape[0])\n",
    "    np.random.shuffle(t)\n",
    "    true_train=x_true[t[:x_true.shape[0]//2]]\n",
    "    true_test=x_true[t[x_true.shape[0]//2:]]\n",
    "    np.random.shuffle(t)\n",
    "    false_train=x_false[t[:x_true.shape[0]//2]]\n",
    "    false_test=x_false[t[x_true.shape[0]//2:]]\n",
    "    \n",
    "    y_train=np.concatenate((np.ones((x_true.shape[0]//2),dtype=\"int32\"),np.zeros((x_true.shape[0]//2),dtype=\"int32\")),axis=0)\n",
    "    x_train=np.concatenate((true_train,false_train),axis=0)\n",
    "    y_test=np.concatenate((np.ones((x_true.shape[0]-x_true.shape[0]//2),dtype=\"int32\"),np.zeros((x_true.shape[0]-x_true.shape[0]//2),dtype=\"int32\")))\n",
    "    x_test=np.concatenate((true_test,false_test),axis=0)\n",
    "    \n",
    "#     training logistic regression model\n",
    "\n",
    "    perf=pd.DataFrame({\"model\":np.array([],dtype=str),\"log-loss\":np.array([],dtype=float),\"FAR\":np.array([],dtype=float),\"FRR\":np.array([],dtype=float),\n",
    "                       \"F-score\": np.array([],dtype=float)})\n",
    "    \n",
    "    dic={\"model\": \"log\"}\n",
    "    reg = linear_model.LogisticRegression(solver=\"lbfgs\")\n",
    "    t = test(reg, x_test,y_test)\n",
    "    for i in test(reg, x_test,y_test).keys():\n",
    "        dic[i]=t[i]\n",
    "    perf=perf.append(dic,ignore_index=True)\n",
    "    \n",
    "#     training svm model\n",
    "\n",
    "    dic={\"model\": \"svm\"}\n",
    "    vm = svm.SVC(gamma='auto',probability=True)\n",
    "    t = test(vm, x_test,y_test)\n",
    "    for i in test(reg, x_test,y_test).keys():\n",
    "        dic[i]=t[i]\n",
    "    perf=perf.append(dic,ignore_index=True)\n",
    "    \n",
    "#     training fandom forest model\n",
    "    \n",
    "    dic={\"model\": \"forest\"}\n",
    "    begi = ensemble.RandomForestClassifier(n_estimators=100)\n",
    "    t = test(begi, x_test,y_test)\n",
    "    for i in test(reg, x_test,y_test).keys():\n",
    "        dic[i]=t[i]\n",
    "    perf=perf.append(dic,ignore_index=True)\n",
    "    return perf"
   ]
  },
  {
   "cell_type": "code",
   "execution_count": 828,
   "metadata": {},
   "outputs": [],
   "source": [
    "valerii_unigram = pd.read_csv(\"features/valerii_unigram_features.csv\")\n",
    "valerii_bigram = pd.read_csv(\"features/valerii_bigram_features.csv\")\n",
    "valerii_trigram = pd.read_csv(\"features/valerii_trigram_features.csv\")\n",
    "\n",
    "ann_marie_unigram = pd.read_csv(\"features/ann-marie_unigram_features.csv\")\n",
    "ann_marie_bigram = pd.read_csv(\"features/ann-marie_bigram_features.csv\")\n",
    "ann_marie_trigram = pd.read_csv(\"features/ann-marie_trigram_features.csv\")\n",
    "\n",
    "bohdan_unigram = pd.read_csv(\"features/bohdan_unigram_features.csv\")\n",
    "bohdan_bigram = pd.read_csv(\"features/bohdan_bigram_features.csv\")\n",
    "bohdan_trigram = pd.read_csv(\"features/bohdan_trigram_features.csv\")\n",
    "\n",
    "serhii_unigram = pd.read_csv(\"features/serhii_unigram_features.csv\")\n",
    "serhii_bigram = pd.read_csv(\"features/serhii_bigram_features.csv\")\n",
    "serhii_trigram = pd.read_csv(\"features/serhii_trigram_features.csv\")"
   ]
  },
  {
   "cell_type": "markdown",
   "metadata": {},
   "source": [
    "unigram"
   ]
  },
  {
   "cell_type": "code",
   "execution_count": 829,
   "metadata": {},
   "outputs": [],
   "source": [
    "rep=10   #mean losses over rep repeats"
   ]
  },
  {
   "cell_type": "code",
   "execution_count": 830,
   "metadata": {},
   "outputs": [
    {
     "data": {
      "text/html": [
       "<div>\n",
       "<style scoped>\n",
       "    .dataframe tbody tr th:only-of-type {\n",
       "        vertical-align: middle;\n",
       "    }\n",
       "\n",
       "    .dataframe tbody tr th {\n",
       "        vertical-align: top;\n",
       "    }\n",
       "\n",
       "    .dataframe thead th {\n",
       "        text-align: right;\n",
       "    }\n",
       "</style>\n",
       "<table border=\"1\" class=\"dataframe\">\n",
       "  <thead>\n",
       "    <tr style=\"text-align: right;\">\n",
       "      <th></th>\n",
       "      <th>model</th>\n",
       "      <th>log-loss</th>\n",
       "      <th>FAR</th>\n",
       "      <th>FRR</th>\n",
       "      <th>F-score</th>\n",
       "    </tr>\n",
       "  </thead>\n",
       "  <tbody>\n",
       "    <tr>\n",
       "      <td>0</td>\n",
       "      <td>log</td>\n",
       "      <td>0.476693</td>\n",
       "      <td>0.356667</td>\n",
       "      <td>0.108667</td>\n",
       "      <td>0.793208</td>\n",
       "    </tr>\n",
       "    <tr>\n",
       "      <td>1</td>\n",
       "      <td>svm</td>\n",
       "      <td>0.460295</td>\n",
       "      <td>0.342000</td>\n",
       "      <td>0.067333</td>\n",
       "      <td>0.820210</td>\n",
       "    </tr>\n",
       "    <tr>\n",
       "      <td>2</td>\n",
       "      <td>forest</td>\n",
       "      <td>0.327455</td>\n",
       "      <td>0.118667</td>\n",
       "      <td>0.128000</td>\n",
       "      <td>0.876081</td>\n",
       "    </tr>\n",
       "  </tbody>\n",
       "</table>\n",
       "</div>"
      ],
      "text/plain": [
       "    model  log-loss       FAR       FRR   F-score\n",
       "0     log  0.476693  0.356667  0.108667  0.793208\n",
       "1     svm  0.460295  0.342000  0.067333  0.820210\n",
       "2  forest  0.327455  0.118667  0.128000  0.876081"
      ]
     },
     "execution_count": 830,
     "metadata": {},
     "output_type": "execute_result"
    }
   ],
   "source": [
    "x_false=np.concatenate((ann_marie_unigram,bohdan_unigram,serhii_unigram),axis=0)[:,-2:].astype(np.float64)    #not ovner\n",
    "x_true=np.array(valerii_unigram.iloc[:,-2:],dtype=np.float64)\n",
    "unigrams=[]\n",
    "for i in range(rep):\n",
    "    unigrams.append(performance(x_false,x_true))\n",
    "unigram=unigrams[0]\n",
    "for i in unigrams[1:]:\n",
    "    unigram.iloc[:,1:]+=i.iloc[:,1:]\n",
    "unigram.iloc[:,1:]/=rep\n",
    "unigram"
   ]
  },
  {
   "cell_type": "markdown",
   "metadata": {},
   "source": [
    "bigram"
   ]
  },
  {
   "cell_type": "code",
   "execution_count": 831,
   "metadata": {},
   "outputs": [
    {
     "data": {
      "text/html": [
       "<div>\n",
       "<style scoped>\n",
       "    .dataframe tbody tr th:only-of-type {\n",
       "        vertical-align: middle;\n",
       "    }\n",
       "\n",
       "    .dataframe tbody tr th {\n",
       "        vertical-align: top;\n",
       "    }\n",
       "\n",
       "    .dataframe thead th {\n",
       "        text-align: right;\n",
       "    }\n",
       "</style>\n",
       "<table border=\"1\" class=\"dataframe\">\n",
       "  <thead>\n",
       "    <tr style=\"text-align: right;\">\n",
       "      <th></th>\n",
       "      <th>model</th>\n",
       "      <th>log-loss</th>\n",
       "      <th>FAR</th>\n",
       "      <th>FRR</th>\n",
       "      <th>F-score</th>\n",
       "    </tr>\n",
       "  </thead>\n",
       "  <tbody>\n",
       "    <tr>\n",
       "      <td>0</td>\n",
       "      <td>log</td>\n",
       "      <td>0.467819</td>\n",
       "      <td>0.348889</td>\n",
       "      <td>0.091111</td>\n",
       "      <td>0.805116</td>\n",
       "    </tr>\n",
       "    <tr>\n",
       "      <td>1</td>\n",
       "      <td>svm</td>\n",
       "      <td>0.443318</td>\n",
       "      <td>0.337778</td>\n",
       "      <td>0.057778</td>\n",
       "      <td>0.826559</td>\n",
       "    </tr>\n",
       "    <tr>\n",
       "      <td>2</td>\n",
       "      <td>forest</td>\n",
       "      <td>0.283847</td>\n",
       "      <td>0.102963</td>\n",
       "      <td>0.104444</td>\n",
       "      <td>0.896174</td>\n",
       "    </tr>\n",
       "  </tbody>\n",
       "</table>\n",
       "</div>"
      ],
      "text/plain": [
       "    model  log-loss       FAR       FRR   F-score\n",
       "0     log  0.467819  0.348889  0.091111  0.805116\n",
       "1     svm  0.443318  0.337778  0.057778  0.826559\n",
       "2  forest  0.283847  0.102963  0.104444  0.896174"
      ]
     },
     "execution_count": 831,
     "metadata": {},
     "output_type": "execute_result"
    }
   ],
   "source": [
    "x_false=np.concatenate((ann_marie_bigram,bohdan_bigram,serhii_bigram),axis=0)[:,-2:].astype(np.float64)    #not ovner\n",
    "x_true=np.array(valerii_bigram.iloc[:,-2:],dtype=np.float64)\n",
    "bigrams=[]\n",
    "for i in range(rep):\n",
    "    bigrams.append(performance(x_false,x_true))\n",
    "bigram=bigrams[0]\n",
    "for i in bigrams[1:]:\n",
    "    bigram.iloc[:,1:]+=i.iloc[:,1:]\n",
    "bigram.iloc[:,1:]/=rep\n",
    "bigram"
   ]
  },
  {
   "cell_type": "markdown",
   "metadata": {},
   "source": [
    "trigram"
   ]
  },
  {
   "cell_type": "code",
   "execution_count": 833,
   "metadata": {},
   "outputs": [
    {
     "data": {
      "text/html": [
       "<div>\n",
       "<style scoped>\n",
       "    .dataframe tbody tr th:only-of-type {\n",
       "        vertical-align: middle;\n",
       "    }\n",
       "\n",
       "    .dataframe tbody tr th {\n",
       "        vertical-align: top;\n",
       "    }\n",
       "\n",
       "    .dataframe thead th {\n",
       "        text-align: right;\n",
       "    }\n",
       "</style>\n",
       "<table border=\"1\" class=\"dataframe\">\n",
       "  <thead>\n",
       "    <tr style=\"text-align: right;\">\n",
       "      <th></th>\n",
       "      <th>model</th>\n",
       "      <th>log-loss</th>\n",
       "      <th>FAR</th>\n",
       "      <th>FRR</th>\n",
       "      <th>F-score</th>\n",
       "    </tr>\n",
       "  </thead>\n",
       "  <tbody>\n",
       "    <tr>\n",
       "      <td>0</td>\n",
       "      <td>log</td>\n",
       "      <td>0.462681</td>\n",
       "      <td>0.344167</td>\n",
       "      <td>0.108333</td>\n",
       "      <td>0.797820</td>\n",
       "    </tr>\n",
       "    <tr>\n",
       "      <td>1</td>\n",
       "      <td>svm</td>\n",
       "      <td>0.433705</td>\n",
       "      <td>0.349167</td>\n",
       "      <td>0.065000</td>\n",
       "      <td>0.818891</td>\n",
       "    </tr>\n",
       "    <tr>\n",
       "      <td>2</td>\n",
       "      <td>forest</td>\n",
       "      <td>0.172964</td>\n",
       "      <td>0.099167</td>\n",
       "      <td>0.023333</td>\n",
       "      <td>0.941056</td>\n",
       "    </tr>\n",
       "  </tbody>\n",
       "</table>\n",
       "</div>"
      ],
      "text/plain": [
       "    model  log-loss       FAR       FRR   F-score\n",
       "0     log  0.462681  0.344167  0.108333  0.797820\n",
       "1     svm  0.433705  0.349167  0.065000  0.818891\n",
       "2  forest  0.172964  0.099167  0.023333  0.941056"
      ]
     },
     "execution_count": 833,
     "metadata": {},
     "output_type": "execute_result"
    }
   ],
   "source": [
    "x_false=np.concatenate((ann_marie_trigram,bohdan_trigram,serhii_trigram),axis=0)[:,-2:].astype(np.float64)    #not ovner\n",
    "x_true=np.array(valerii_trigram.iloc[:,-2:],dtype=np.float64)\n",
    "trigrams=[]\n",
    "for i in range(rep):\n",
    "    trigrams.append(performance(x_false,x_true))\n",
    "trigram=trigrams[0]\n",
    "for i in trigrams[1:]:\n",
    "    trigram.iloc[:,1:]+=i.iloc[:,1:]\n",
    "trigram.iloc[:,1:]/=rep\n",
    "trigram"
   ]
  }
 ],
 "metadata": {
  "kernelspec": {
   "display_name": "Python 3",
   "language": "python",
   "name": "python3"
  },
  "language_info": {
   "codemirror_mode": {
    "name": "ipython",
    "version": 3
   },
   "file_extension": ".py",
   "mimetype": "text/x-python",
   "name": "python",
   "nbconvert_exporter": "python",
   "pygments_lexer": "ipython3",
   "version": "3.7.4"
  }
 },
 "nbformat": 4,
 "nbformat_minor": 4
}
