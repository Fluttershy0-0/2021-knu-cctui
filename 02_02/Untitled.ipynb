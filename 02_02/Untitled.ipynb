{
 "cells": [
  {
   "cell_type": "code",
   "execution_count": 104,
   "metadata": {},
   "outputs": [],
   "source": [
    "from os import listdir\n",
    "from os.path import isfile, join\n",
    "import pandas as pd\n",
    "import numpy as np\n",
    "import matplotlib.pyplot as plt\n",
    "import scipy.signal\n",
    "from scipy import ndimage\n",
    "import pywt\n",
    "import tqdm\n",
    "import scipy.fftpack as fft"
   ]
  },
  {
   "cell_type": "code",
   "execution_count": 2,
   "metadata": {},
   "outputs": [],
   "source": [
    "files = [f for f in listdir(\"1dig\") if isfile(join(\"1dig\", f))]\n",
    "files=np.array(files)"
   ]
  },
  {
   "cell_type": "code",
   "execution_count": 3,
   "metadata": {},
   "outputs": [],
   "source": [
    "info = np.core.defchararray.split(files, \"_\")\n",
    "tails = [i[1][:-4] for i in info[np.core.defchararray.equal(np.array([i[0] for i in info]), \"key\")]]"
   ]
  },
  {
   "cell_type": "code",
   "execution_count": 107,
   "metadata": {},
   "outputs": [
    {
     "name": "stderr",
     "output_type": "stream",
     "text": [
      "300it [00:04, 64.18it/s]\n"
     ]
    }
   ],
   "source": [
    "normalized_acc = []\n",
    "normalized_gyro = []\n",
    "for i in tqdm.tqdm(enumerate(tails)):\n",
    "    key = pd.read_csv(\"1dig/key_\"+i[1]+\".csv\")\n",
    "    acc = pd.read_csv(\"1dig_Savitzky_Golay/acc_\"+i[1]+\".csv\")\n",
    "    gyro = pd.read_csv(\"1dig_Savitzky_Golay/gyro_\"+i[1]+\".csv\")\n",
    "    key=np.concatenate((\n",
    "                        np.array([\"start\", np.min((np.array(acc[\"timestamp\"])[1],np.array(gyro[\"timestamp\"])[1]))]).reshape(1,-1),\n",
    "                        np.array(key).reshape(1,-1),\n",
    "                        np.array([\"stop\" , np.max((np.array(acc[\"timestamp\"])[-1],np.array(gyro[\"timestamp\"])[-1]))]).reshape(1,-1)\n",
    "                        ),axis=0)\n",
    "    acc_separated=[]\n",
    "    gyro_separated=[]\n",
    "    for i in enumerate(key[:-1]):\n",
    "        acc_separated.append(np.array(gyro)[np.logical_and(gyro[\"timestamp\"]>=int(key[i[0]][1]),\n",
    "                                                           gyro[\"timestamp\"]<=int(key[i[0]+1][1]))])\n",
    "        gyro_separated.append(np.array(gyro)[np.logical_and(gyro[\"timestamp\"]>=int(key[i[0]][1]),\n",
    "                                                            gyro[\"timestamp\"]<=int(key[i[0]+1][1]))])\n",
    "    acc_separated=np.array(acc_separated)\n",
    "    gyro_separated=np.array(gyro_separated)\n",
    "    for i in range(gyro_separated.shape[0]):\n",
    "        loc = np.min((acc_separated[i][:,3][0], gyro_separated[i][:,3][0]))\n",
    "        scale = np.max((acc_separated[i][:,3][-1], gyro_separated[i][:,3][-1]))-loc\n",
    "        acc_separated[i][:,3] = (acc_separated[i][:,3]-loc)/scale\n",
    "        gyro_separated[i][:,3] = (gyro_separated[i][:,3]-loc)/scale\n",
    "        acc_separated[i][:,:3] = (acc_separated[i][:,:3] - np.mean(acc_separated[i][:,:3],axis=0))/np.std(acc_separated[i][:,:3],axis=0)\n",
    "        gyro_separated[i][:,:3] = (gyro_separated[i][:,:3] - np.mean(gyro_separated[i][:,:3],axis=0))/np.std(gyro_separated[i][:,:3],axis=0)\n",
    "    normalized_acc.append(acc_separated)\n",
    "    normalized_gyro.append(gyro_separated)\n",
    "    acc_fur_x=[]\n",
    "    acc_fur_y=[]\n",
    "    acc_fur_z=[]\n",
    "    gyro_fur_x=[]\n",
    "    gyro_fur_y=[]\n",
    "    gyro_fur_z=[]\n",
    "    \n",
    "    acc_wav_x=[]\n",
    "    acc_wav_y=[]\n",
    "    acc_wav_z=[]\n",
    "    gyro_wav_x=[]\n",
    "    gyro_wav_y=[]\n",
    "    gyro_wav_z=[]\n",
    "    \n",
    "    for i in range(gyro_separated.shape[0]):\n",
    "        acc_fur_x.append(np.abs(fft.fft(acc_separated[i][:,0])))\n",
    "        acc_fur_y.append(np.abs(fft.fft(acc_separated[i][:,1])))\n",
    "        acc_fur_z.append(np.abs(fft.fft(acc_separated[i][:,2])))\n",
    "        \n",
    "        gyro_fur_x.append(np.abs(fft.fft(gyro_separated[i][:,0])))\n",
    "        gyro_fur_y.append(np.abs(fft.fft(gyro_separated[i][:,1])))\n",
    "        gyro_fur_z.append(np.abs(fft.fft(gyro_separated[i][:,2])))\n",
    "        \n",
    "        acc_wav_x.append(pywt.wavedec(acc_separated[i][:,0], \"db3\", levels=2))\n",
    "        acc_wav_y.append(pywt.wavedec(acc_separated[i][:,1], \"db3\", levels=2))\n",
    "        acc_wav_z.append(pywt.wavedec(acc_separated[i][:,2], \"db3\", levels=2))\n",
    "        \n",
    "        gyro_wav_x.append(pywt.wavedec(acc_separated[i][:,0], \"db3\", levels=2))\n",
    "        gyro_wav_y.append(pywt.wavedec(acc_separated[i][:,1], \"db3\", levels=2))\n",
    "        gyro_wav_z.append(pywt.wavedec(acc_separated[i][:,2], \"db3\", levels=2))\n",
    "        "
   ]
  },
  {
   "cell_type": "code",
   "execution_count": 109,
   "metadata": {},
   "outputs": [
    {
     "data": {
      "text/plain": [
       "array([2.46469511e-14, 3.21929062e+01, 4.45219482e+01, 2.46216789e+01,\n",
       "       1.43145278e+01, 5.66255746e+00, 6.68376519e+00, 2.75933291e+00,\n",
       "       3.28336626e+00, 2.27546242e+00, 1.68128657e+00, 1.53914459e+00,\n",
       "       1.34998263e+00, 1.29056682e+00, 1.24495060e+00, 1.16035044e+00,\n",
       "       1.11895719e+00, 1.07311332e+00, 9.98875140e-01, 9.60044231e-01,\n",
       "       9.45056170e-01, 9.48978606e-01, 9.22240633e-01, 9.09118991e-01,\n",
       "       8.85121934e-01, 8.65092531e-01, 8.34639490e-01, 7.99266899e-01,\n",
       "       7.62155665e-01, 7.61769179e-01, 7.65544684e-01, 7.32757794e-01,\n",
       "       7.19202351e-01, 7.06604334e-01, 6.93071785e-01, 6.72382499e-01,\n",
       "       6.66227237e-01, 6.66357801e-01, 6.69618125e-01, 6.74000088e-01,\n",
       "       6.71389790e-01, 6.65946063e-01, 6.70275599e-01, 6.65659575e-01,\n",
       "       6.47539051e-01, 6.47539051e-01, 6.65659575e-01, 6.70275599e-01,\n",
       "       6.65946063e-01, 6.71389790e-01, 6.74000088e-01, 6.69618125e-01,\n",
       "       6.66357801e-01, 6.66227237e-01, 6.72382499e-01, 6.93071785e-01,\n",
       "       7.06604334e-01, 7.19202351e-01, 7.32757794e-01, 7.65544684e-01,\n",
       "       7.61769179e-01, 7.62155665e-01, 7.99266899e-01, 8.34639490e-01,\n",
       "       8.65092531e-01, 8.85121934e-01, 9.09118991e-01, 9.22240633e-01,\n",
       "       9.48978606e-01, 9.45056170e-01, 9.60044231e-01, 9.98875140e-01,\n",
       "       1.07311332e+00, 1.11895719e+00, 1.16035044e+00, 1.24495060e+00,\n",
       "       1.29056682e+00, 1.34998263e+00, 1.53914459e+00, 1.68128657e+00,\n",
       "       2.27546242e+00, 3.28336626e+00, 2.75933291e+00, 6.68376519e+00,\n",
       "       5.66255746e+00, 1.43145278e+01, 2.46216789e+01, 4.45219482e+01,\n",
       "       3.21929062e+01])"
      ]
     },
     "execution_count": 109,
     "metadata": {},
     "output_type": "execute_result"
    }
   ],
   "source": [
    "acc_fur_x[0]"
   ]
  },
  {
   "cell_type": "code",
   "execution_count": 118,
   "metadata": {},
   "outputs": [
    {
     "data": {
      "text/plain": [
       "[array([2.86324218, 2.69869661]),\n",
       " array([-1.45454057,  2.69869661]),\n",
       " array([-0.51424279, -0.51425524,  0.77933611]),\n",
       " array([-0.18182009, -0.18182293, -0.18178771, -0.18183543, -0.18180077,\n",
       "         1.64762275]),\n",
       " array([-0.06429536, -0.06429456, -0.06427126, -0.06426965, -0.06429295,\n",
       "        -0.06429777, -0.06424796, -0.06426885, -0.06429617, -0.06427126,\n",
       "        -0.06424635,  0.35355339]),\n",
       " array([-0.0226577 , -0.02272701, -0.02269179, -0.02269179, -0.02272701,\n",
       "        -0.02269179, -0.02268951, -0.02272474, -0.02265656, -0.02272701,\n",
       "        -0.02272474, -0.02265202, -0.02272474, -0.02272247, -0.02268838,\n",
       "        -0.02272474, -0.02268724, -0.02268724, -0.02272588, -0.02269065,\n",
       "        -0.02272361, -0.02272361,  0.5       ]),\n",
       " array([-0.00801271, -0.00804325, -0.00801271, -0.00804164, -0.0079629 ,\n",
       "        -0.00804164, -0.00801111, -0.00799343, -0.00801111, -0.00804325,\n",
       "        -0.00796129, -0.00804325, -0.00800789, -0.00799343, -0.0080095 ,\n",
       "        -0.00804164, -0.00800789, -0.00804325, -0.00801111, -0.00804325,\n",
       "        -0.00800789, -0.00804325, -0.00800468, -0.00804325, -0.00800789,\n",
       "        -0.00804325, -0.00800468, -0.00804325, -0.00800468, -0.00799504,\n",
       "        -0.00800789, -0.00804325, -0.00795486, -0.00804325, -0.00800468,\n",
       "        -0.00799343, -0.0080095 , -0.00804325, -0.00795968, -0.00804325,\n",
       "        -0.0080095 , -0.00804325, -0.0080095 , -0.00804325,  0.70710678])]"
      ]
     },
     "execution_count": 118,
     "metadata": {},
     "output_type": "execute_result"
    }
   ],
   "source": [
    " pywt.wavedec(acc_separated[0][:,3], \"db3\", 0)\n",
    "    "
   ]
  },
  {
   "cell_type": "code",
   "execution_count": 103,
   "metadata": {},
   "outputs": [
    {
     "data": {
      "text/plain": [
       "[<matplotlib.lines.Line2D at 0x1c3d028ffc8>]"
      ]
     },
     "execution_count": 103,
     "metadata": {},
     "output_type": "execute_result"
    },
    {
     "data": {
      "image/png": "[encoded data removed]",
      "text/plain": [
       "<Figure size 432x288 with 1 Axes>"
      ]
     },
     "metadata": {
      "needs_background": "light"
     },
     "output_type": "display_data"
    }
   ],
   "source": [
    "plt.plot(acc_separated[0][:,3],acc_separated[0][:,2]) "
   ]
  },
  {
   "cell_type": "code",
   "execution_count": 95,
   "metadata": {},
   "outputs": [],
   "source": [
    "acc_separated[0][:,:3] = (acc_separated[0][:,:3] - np.mean(acc_separated[0][:,:3],axis=0))/np.std(acc_separated[0][:,:3],axis=0)"
   ]
  },
  {
   "cell_type": "code",
   "execution_count": 61,
   "metadata": {},
   "outputs": [
    {
     "data": {
      "text/plain": [
       "384979.0"
      ]
     },
     "execution_count": 61,
     "metadata": {},
     "output_type": "execute_result"
    }
   ],
   "source": [
    "scale"
   ]
  },
  {
   "cell_type": "code",
   "execution_count": 78,
   "metadata": {},
   "outputs": [],
   "source": [
    "gyro_separated[0][:,:3] = (gyro_separated[0][:,:3] - np.mean(gyro_separated[0][:,:3],axis=0))/np.std(gyro_separated[0][:,:3],axis=0)"
   ]
  },
  {
   "cell_type": "code",
   "execution_count": 76,
   "metadata": {},
   "outputs": [
    {
     "data": {
      "text/plain": [
       "array([0.61886951, 0.96558591, 0.34922095])"
      ]
     },
     "execution_count": 76,
     "metadata": {},
     "output_type": "execute_result"
    }
   ],
   "source": [
    "np.mean(gyro_separated[0][:,:3],axis=0)"
   ]
  },
  {
   "cell_type": "code",
   "execution_count": 81,
   "metadata": {},
   "outputs": [
    {
     "data": {
      "text/plain": [
       "array([1., 1., 1.])"
      ]
     },
     "execution_count": 81,
     "metadata": {},
     "output_type": "execute_result"
    }
   ],
   "source": [
    "np.std(gyro_separated[0][:,:3],axis=0)"
   ]
  },
  {
   "cell_type": "code",
   "execution_count": 85,
   "metadata": {},
   "outputs": [
    {
     "data": {
      "text/plain": [
       "array([0.33471571, 0.16950016, 0.29421492, 0.        ])"
      ]
     },
     "execution_count": 85,
     "metadata": {},
     "output_type": "execute_result"
    }
   ],
   "source": [
    "acc_separated[0][0]"
   ]
  },
  {
   "cell_type": "code",
   "execution_count": null,
   "metadata": {},
   "outputs": [],
   "source": []
  }
 ],
 "metadata": {
  "kernelspec": {
   "display_name": "Python 3",
   "language": "python",
   "name": "python3"
  },
  "language_info": {
   "codemirror_mode": {
    "name": "ipython",
    "version": 3
   },
   "file_extension": ".py",
   "mimetype": "text/x-python",
   "name": "python",
   "nbconvert_exporter": "python",
   "pygments_lexer": "ipython3",
   "version": "3.7.4"
  }
 },
 "nbformat": 4,
 "nbformat_minor": 4
}
